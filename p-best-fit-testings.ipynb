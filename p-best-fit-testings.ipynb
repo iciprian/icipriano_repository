{
 "cells": [
  {
   "cell_type": "code",
   "execution_count": null,
   "metadata": {},
   "outputs": [],
   "source": [
    "import os, sys, pandas as pd, numpy as np, time\n",
    "from heapq import heappush, heappop\n",
    "from operator import itemgetter\n",
    "from time import time\n",
    "\n",
    "sys.path.insert(0, '/Users/icipriano/GIT/OMPy/')\n",
    "import ompy\n",
    "\n",
    "path =  \"/Users/icipriano/GIT/OMPy/examples/Agricola/\"\n",
    "fpp = \"Agricola5.fpp\"\n",
    "blocks = \"Agricola5.blocks\"\n",
    "delay = \"Agricola5.delay\"\n",
    "prob = \"Agricola5.prob\"\n",
    "I = ompy.Instance()\n",
    "I.load_graph(path+fpp, path+delay)\n",
    "I.load_prob(path+prob)\n",
    "I.load_blocks(path+blocks)\n",
    "G = ompy.Digraph(path+fpp, path+delay)\n",
    "S = ompy.Solution()\n",
    "S.load(path+\"/sols/Agricola5.lp.sol\")\n",
    "X=S.x.to_numpy()\n",
    "\n",
    "from time import time\n",
    "\n",
    "nactivities = I.numActivities()\n",
    "nperiods = I.numPeriods()\n",
    "nresources = I.numConstraints()\n",
    "\n",
    "LP_sol=I.compute_objval(S)\n",
    "\n",
    "nactivities = I.numActivities()\n",
    "nperiods = I.numPeriods()\n",
    "nresources = I.numConstraints()\n",
    "\n",
    "L_rd=[]\n",
    "L_pl=[]\n",
    "L_val=[]\n",
    "#L_met=[]\n",
    "\n",
    "for i in range (10):\n",
    "    for j in range (10):\n",
    "        p=1+i/10\n",
    "        q=1+j/10\n",
    "        brd = ompy.input_bestfit(p,nperiods)\n",
    "        bpl = ompy.input_bestfit(q,nperiods)\n",
    "        bpfit_rd=ompy.best_fit_p(brd,X,nperiods,nactivities)\n",
    "        bpfit_pl=ompy.best_fit_p(bpl,X,nperiods,nactivities)\n",
    "        S=ompy.solve_parallel_wp(bpfit_rd,bpfit_pl,I)\n",
    "        LIsol=I.compute_objval(S)\n",
    "        L_rd.append(p)\n",
    "        L_pl.append(q)\n",
    "        L_val.append(100*LIsol/LP_sol)\n",
    "        print(f\"{100*LIsol/LP_sol}% LP [Parallel / release date = {p} - best fit / priority list =  {q} - best fit]\")\n"
   ]
  }
 ],
 "metadata": {
  "kernelspec": {
   "display_name": "Python 3",
   "language": "python",
   "name": "python3"
  },
  "language_info": {
   "codemirror_mode": {
    "name": "ipython",
    "version": 3
   },
   "file_extension": ".py",
   "mimetype": "text/x-python",
   "name": "python",
   "nbconvert_exporter": "python",
   "pygments_lexer": "ipython3",
   "version": "3.6.4"
  }
 },
 "nbformat": 4,
 "nbformat_minor": 4
}
